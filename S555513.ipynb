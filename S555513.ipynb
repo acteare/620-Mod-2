{
 "cells": [
  {
   "cell_type": "markdown",
   "id": "6d39d089-be36-46bd-b95f-8683d45180dd",
   "metadata": {},
   "source": [
    "## This Notebook belongs to Amelia Teare\n",
    "#"
   ]
  },
  {
   "cell_type": "code",
   "execution_count": 42,
   "id": "e5e4536a-8807-461b-89c1-3fbffcb5f08c",
   "metadata": {},
   "outputs": [
    {
     "name": "stdout",
     "output_type": "stream",
     "text": [
      "*      *\n",
      "**    **\n",
      "***  ***\n",
      "********\n"
     ]
    }
   ],
   "source": [
    "N = 4\n",
    "for a in range(1, N+1):\n",
    "    for b in range(1, a+1):\n",
    "        print('*', end='')\n",
    "    for s in range(N-a):\n",
    "        print(\"  \",end='')\n",
    "    for c in range(a, 0, -1):\n",
    "        print('*', end ='')\n",
    "    print()"
   ]
  },
  {
   "cell_type": "code",
   "execution_count": null,
   "id": "803e2d85-231f-4a56-b130-392aaa8ebd05",
   "metadata": {},
   "outputs": [],
   "source": []
  }
 ],
 "metadata": {
  "kernelspec": {
   "display_name": "Python 3 (ipykernel)",
   "language": "python",
   "name": "python3"
  },
  "language_info": {
   "codemirror_mode": {
    "name": "ipython",
    "version": 3
   },
   "file_extension": ".py",
   "mimetype": "text/x-python",
   "name": "python",
   "nbconvert_exporter": "python",
   "pygments_lexer": "ipython3",
   "version": "3.11.4"
  }
 },
 "nbformat": 4,
 "nbformat_minor": 5
}
